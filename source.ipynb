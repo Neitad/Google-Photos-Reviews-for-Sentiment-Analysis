{
  "nbformat": 4,
  "nbformat_minor": 0,
  "metadata": {
    "accelerator": "GPU",
    "colab": {
      "name": "Model.ipynb",
      "provenance": [],
      "collapsed_sections": [
        "5Vokn9FTSONP",
        "GZ4noaKRSTDH",
        "OoeKgvt8Yh7W",
        "ipIWh8p2bzCS",
        "zrt-gy2Nkdjl"
      ],
      "toc_visible": true,
      "machine_shape": "hm"
    },
    "kernelspec": {
      "display_name": "Python 3",
      "name": "python3"
    }
  },
  "cells": [
    {
      "cell_type": "code",
      "metadata": {
        "colab": {
          "base_uri": "https://localhost:8080/"
        },
        "id": "m2lNbAq8xGzO",
        "outputId": "cafd992c-85d3-4f9c-a1b8-3c7e51c04129"
      },
      "source": [
        "from google.colab import drive\n",
        "drive.mount('/content/drive')"
      ],
      "execution_count": 2,
      "outputs": [
        {
          "output_type": "stream",
          "text": [
            "Mounted at /content/drive\n"
          ],
          "name": "stdout"
        }
      ]
    },
    {
      "cell_type": "markdown",
      "metadata": {
        "id": "z9U5K1OLA6NN"
      },
      "source": [
        "# Cài đặt các thư viện cần thiết"
      ]
    },
    {
      "cell_type": "code",
      "metadata": {
        "colab": {
          "base_uri": "https://localhost:8080/"
        },
        "id": "LqRNxr7M4huw",
        "outputId": "059cf0ee-8ea2-4b13-9950-1f29a3036869"
      },
      "source": [
        "pip install pyvi"
      ],
      "execution_count": 3,
      "outputs": [
        {
          "output_type": "stream",
          "text": [
            "Collecting pyvi\n",
            "\u001b[?25l  Downloading https://files.pythonhosted.org/packages/10/e1/0e5bc6b5e3327b9385d6e0f1b0a7c0404f28b74eb6db59a778515b30fd9c/pyvi-0.1-py2.py3-none-any.whl (8.5MB)\n",
            "\u001b[K     |████████████████████████████████| 8.5MB 4.6MB/s \n",
            "\u001b[?25hRequirement already satisfied: scikit-learn in /usr/local/lib/python3.6/dist-packages (from pyvi) (0.22.2.post1)\n",
            "Collecting sklearn-crfsuite\n",
            "  Downloading https://files.pythonhosted.org/packages/25/74/5b7befa513482e6dee1f3dd68171a6c9dfc14c0eaa00f885ffeba54fe9b0/sklearn_crfsuite-0.3.6-py2.py3-none-any.whl\n",
            "Requirement already satisfied: joblib>=0.11 in /usr/local/lib/python3.6/dist-packages (from scikit-learn->pyvi) (1.0.0)\n",
            "Requirement already satisfied: scipy>=0.17.0 in /usr/local/lib/python3.6/dist-packages (from scikit-learn->pyvi) (1.4.1)\n",
            "Requirement already satisfied: numpy>=1.11.0 in /usr/local/lib/python3.6/dist-packages (from scikit-learn->pyvi) (1.19.4)\n",
            "Requirement already satisfied: tqdm>=2.0 in /usr/local/lib/python3.6/dist-packages (from sklearn-crfsuite->pyvi) (4.41.1)\n",
            "Collecting python-crfsuite>=0.8.3\n",
            "\u001b[?25l  Downloading https://files.pythonhosted.org/packages/95/99/869dde6dbf3e0d07a013c8eebfb0a3d30776334e0097f8432b631a9a3a19/python_crfsuite-0.9.7-cp36-cp36m-manylinux1_x86_64.whl (743kB)\n",
            "\u001b[K     |████████████████████████████████| 747kB 39.7MB/s \n",
            "\u001b[?25hRequirement already satisfied: six in /usr/local/lib/python3.6/dist-packages (from sklearn-crfsuite->pyvi) (1.15.0)\n",
            "Requirement already satisfied: tabulate in /usr/local/lib/python3.6/dist-packages (from sklearn-crfsuite->pyvi) (0.8.7)\n",
            "Installing collected packages: python-crfsuite, sklearn-crfsuite, pyvi\n",
            "Successfully installed python-crfsuite-0.9.7 pyvi-0.1 sklearn-crfsuite-0.3.6\n"
          ],
          "name": "stdout"
        }
      ]
    },
    {
      "cell_type": "code",
      "metadata": {
        "id": "f98trPfsP67k",
        "colab": {
          "base_uri": "https://localhost:8080/"
        },
        "outputId": "f47ff912-7d73-4690-8253-cce4803a002f"
      },
      "source": [
        "!pip install -q -U keras-tuner"
      ],
      "execution_count": 4,
      "outputs": [
        {
          "output_type": "stream",
          "text": [
            "\u001b[?25l\r\u001b[K     |█████▏                          | 10kB 19.1MB/s eta 0:00:01\r\u001b[K     |██████████▍                     | 20kB 21.7MB/s eta 0:00:01\r\u001b[K     |███████████████▋                | 30kB 11.0MB/s eta 0:00:01\r\u001b[K     |████████████████████▉           | 40kB 9.0MB/s eta 0:00:01\r\u001b[K     |██████████████████████████      | 51kB 4.2MB/s eta 0:00:01\r\u001b[K     |███████████████████████████████▎| 61kB 4.8MB/s eta 0:00:01\r\u001b[K     |████████████████████████████████| 71kB 3.5MB/s \n",
            "\u001b[?25h  Building wheel for keras-tuner (setup.py) ... \u001b[?25l\u001b[?25hdone\n",
            "  Building wheel for terminaltables (setup.py) ... \u001b[?25l\u001b[?25hdone\n"
          ],
          "name": "stdout"
        }
      ]
    },
    {
      "cell_type": "markdown",
      "metadata": {
        "id": "0nKGz7IkKLsg"
      },
      "source": [
        "#Import thư viện "
      ]
    },
    {
      "cell_type": "code",
      "metadata": {
        "id": "ZF11XW_AIItN"
      },
      "source": [
        "import pandas as pd\n",
        "import numpy as np\n",
        "import tensorflow as tf\n",
        "from tensorflow import keras\n",
        "from tensorflow.keras import layers\n",
        "from sklearn.feature_extraction.text import CountVectorizer\n",
        "from sklearn.svm import SVC\n",
        "from sklearn.feature_extraction.text import TfidfVectorizer,TfidfTransformer\n",
        "from sklearn.model_selection import train_test_split\n",
        "from sklearn.metrics import f1_score\n",
        "from sklearn.naive_bayes import MultinomialNB\n",
        "import re\n",
        "import sys\n",
        "from pyvi import ViTokenizer\n",
        "from sklearn.metrics import classification_report,f1_score\n",
        "from sklearn.pipeline import Pipeline\n",
        "\n",
        "import kerastuner as kt\n",
        "import IPython\n"
      ],
      "execution_count": 5,
      "outputs": []
    },
    {
      "cell_type": "markdown",
      "metadata": {
        "id": "UxDYxSiFKeMZ"
      },
      "source": [
        "# Tiền xử lý dữ liệu"
      ]
    },
    {
      "cell_type": "code",
      "metadata": {
        "id": "RP4maUJ0dBga"
      },
      "source": [
        "df = pd.read_csv('/content/drive/MyDrive/DAUD1_project/dataFull.csv')"
      ],
      "execution_count": 6,
      "outputs": []
    },
    {
      "cell_type": "code",
      "metadata": {
        "colab": {
          "base_uri": "https://localhost:8080/"
        },
        "id": "AVS3W61uZ0b1",
        "outputId": "de054c7e-9917-4564-9906-d1a4a2cfdbd4"
      },
      "source": [
        "df['sentiment'].value_counts()"
      ],
      "execution_count": 7,
      "outputs": [
        {
          "output_type": "execute_result",
          "data": {
            "text/plain": [
              "positive    6600\n",
              "negative    2681\n",
              "neutral      942\n",
              "Name: sentiment, dtype: int64"
            ]
          },
          "metadata": {
            "tags": []
          },
          "execution_count": 7
        }
      ]
    },
    {
      "cell_type": "code",
      "metadata": {
        "id": "aYNwnOsgDx6J"
      },
      "source": [
        "positive = df[df['sentiment']=='positive']\n",
        "negative = df[df['sentiment']=='negative']\n",
        "neutral = df[df['sentiment']=='neutral']"
      ],
      "execution_count": 8,
      "outputs": []
    },
    {
      "cell_type": "code",
      "metadata": {
        "colab": {
          "base_uri": "https://localhost:8080/",
          "height": 400
        },
        "id": "qo4OE1kGekNl",
        "outputId": "2a20f53e-31b7-47d4-d73a-5f422f011a24"
      },
      "source": [
        "import seaborn as sns\n",
        "sns.catplot(x=\"sentiment\",kind=\"count\",data=df)"
      ],
      "execution_count": 9,
      "outputs": [
        {
          "output_type": "execute_result",
          "data": {
            "text/plain": [
              "<seaborn.axisgrid.FacetGrid at 0x7f8ccc5226a0>"
            ]
          },
          "metadata": {
            "tags": []
          },
          "execution_count": 9
        },
        {
          "output_type": "display_data",
          "data": {
            "image/png": "[encoded data removed]",
            "text/plain": [
              "<Figure size 360x360 with 1 Axes>"
            ]
          },
          "metadata": {
            "tags": [],
            "needs_background": "light"
          }
        }
      ]
    },
    {
      "cell_type": "code",
      "metadata": {
        "id": "3d8iKu29m9Pu"
      },
      "source": [
        "data = pd.DataFrame()\n",
        "data = data.append(negative.sample(900))\n",
        "data = data.append(positive.sample(900))\n",
        "data = data.append(neutral.sample(900))"
      ],
      "execution_count": 10,
      "outputs": []
    },
    {
      "cell_type": "code",
      "metadata": {
        "id": "qqXyqjJFGpSQ"
      },
      "source": [
        "data = df"
      ],
      "execution_count": 11,
      "outputs": []
    },
    {
      "cell_type": "code",
      "metadata": {
        "colab": {
          "base_uri": "https://localhost:8080/"
        },
        "id": "7c8UAFYteTCx",
        "outputId": "24f9f716-d4ab-4fdc-da5a-02d5c020fbd1"
      },
      "source": [
        "text = data['review']\n",
        "len(text)"
      ],
      "execution_count": 12,
      "outputs": [
        {
          "output_type": "execute_result",
          "data": {
            "text/plain": [
              "10223"
            ]
          },
          "metadata": {
            "tags": []
          },
          "execution_count": 12
        }
      ]
    },
    {
      "cell_type": "code",
      "metadata": {
        "id": "EHS1TQoDocKh"
      },
      "source": [
        "text = text.reset_index()['review']"
      ],
      "execution_count": 13,
      "outputs": []
    },
    {
      "cell_type": "markdown",
      "metadata": {
        "id": "zp-y6HH9B2za"
      },
      "source": [
        "##Làm sạch văn bản "
      ]
    },
    {
      "cell_type": "code",
      "metadata": {
        "id": "6j8ERIQRecQU"
      },
      "source": [
        "# https://stackoverflow.com/a/49146722/330558\n",
        "def remove_emoji(string):\n",
        "    emoji_pattern = re.compile(\"[\"\n",
        "                               u\"\\U0001F600-\\U0001F64F\"  # emoticons\n",
        "                               u\"\\U0001F300-\\U0001F5FF\"  # symbols & pictographs\n",
        "                               u\"\\U0001F680-\\U0001F6FF\"  # transport & map symbols\n",
        "                               u\"\\U0001F1E0-\\U0001F1FF\"  # flags (iOS)\n",
        "                               u\"\\U00002500-\\U00002BEF\"  # chinese char\n",
        "                               u\"\\U00002702-\\U000027B0\"\n",
        "                               u\"\\U00002702-\\U000027B0\"\n",
        "                               u\"\\U000024C2-\\U0001F251\"\n",
        "                               u\"\\U0001f926-\\U0001f937\"\n",
        "                               u\"\\U00010000-\\U0010ffff\"\n",
        "                               u\"\\u2640-\\u2642\"\n",
        "                               u\"\\u2600-\\u2B55\"\n",
        "                               u\"\\u200d\"\n",
        "                               u\"\\u23cf\"\n",
        "                               u\"\\u23e9\"\n",
        "                               u\"\\u231a\"\n",
        "                               u\"\\ufe0f\"  # dingbats\n",
        "                               u\"\\u3030\"\n",
        "                               \"]+\", flags=re.UNICODE)\n",
        "    return emoji_pattern.sub(r'', string)"
      ],
      "execution_count": 14,
      "outputs": []
    },
    {
      "cell_type": "code",
      "metadata": {
        "id": "vqDyu8endN0M"
      },
      "source": [
        "def sentence_segment(string):\n",
        "    return string.lower()"
      ],
      "execution_count": 15,
      "outputs": []
    },
    {
      "cell_type": "code",
      "metadata": {
        "id": "IeM_odLm143c"
      },
      "source": [
        "def standardize_data(row):\n",
        "    # Xóa dấu chấm, phẩy, hỏi ở cuối câu\n",
        "    row = re.sub(r\"[\\.,\\?]+$-\", \"\", row)\n",
        "    # Xóa tất cả dấu trong câu\n",
        "    row = row.replace(\",\", \" \").replace(\".\", \" \") \\\n",
        "        .replace(\";\", \" \").replace(\"“\", \" \") \\\n",
        "        .replace(\":\", \" \").replace(\"”\", \" \") \\\n",
        "        .replace('\"', \" \").replace(\"'\", \" \") \\\n",
        "        .replace(\"!\", \" \").replace(\"?\", \" \") \\\n",
        "        .replace(\"-\", \" \").replace(\"?\", \" \") \\\n",
        "        .replace(\"(\",\" \").replace(\")\",\" \") \\\n",
        "        .replace(\"%\",\" \").replace(\"+\",\" \") \\\n",
        "        .replace(\"=\",\" \")\n",
        "    row = row.strip()\n",
        "    return row"
      ],
      "execution_count": 16,
      "outputs": []
    },
    {
      "cell_type": "code",
      "metadata": {
        "id": "4S7DC9O-LTwA"
      },
      "source": [
        "clean_text = text.apply(remove_emoji)\n",
        "clean_text = clean_text.apply(sentence_segment)\n",
        "clean_text = clean_text.apply(standardize_data)"
      ],
      "execution_count": 17,
      "outputs": []
    },
    {
      "cell_type": "markdown",
      "metadata": {
        "id": "ODpwiSo1K9bc"
      },
      "source": [
        "##Độ dài trung bình của các câu"
      ]
    },
    {
      "cell_type": "code",
      "metadata": {
        "id": "BSshBSGMMSOy"
      },
      "source": [
        "length = []\n",
        "for i in range(len(clean_text)):\n",
        "  length+=[len(clean_text[i].split())]"
      ],
      "execution_count": 18,
      "outputs": []
    },
    {
      "cell_type": "code",
      "metadata": {
        "colab": {
          "base_uri": "https://localhost:8080/",
          "height": 297
        },
        "id": "4QfRt6GKsrPJ",
        "outputId": "80c90725-4c4d-4cfc-ef3a-046bade8f47b"
      },
      "source": [
        "pd.DataFrame(length).describe().astype('int')"
      ],
      "execution_count": 19,
      "outputs": [
        {
          "output_type": "execute_result",
          "data": {
            "text/html": [
              "<div>\n",
              "<style scoped>\n",
              "    .dataframe tbody tr th:only-of-type {\n",
              "        vertical-align: middle;\n",
              "    }\n",
              "\n",
              "    .dataframe tbody tr th {\n",
              "        vertical-align: top;\n",
              "    }\n",
              "\n",
              "    .dataframe thead th {\n",
              "        text-align: right;\n",
              "    }\n",
              "</style>\n",
              "<table border=\"1\" class=\"dataframe\">\n",
              "  <thead>\n",
              "    <tr style=\"text-align: right;\">\n",
              "      <th></th>\n",
              "      <th>0</th>\n",
              "    </tr>\n",
              "  </thead>\n",
              "  <tbody>\n",
              "    <tr>\n",
              "      <th>count</th>\n",
              "      <td>10223</td>\n",
              "    </tr>\n",
              "    <tr>\n",
              "      <th>mean</th>\n",
              "      <td>13</td>\n",
              "    </tr>\n",
              "    <tr>\n",
              "      <th>std</th>\n",
              "      <td>10</td>\n",
              "    </tr>\n",
              "    <tr>\n",
              "      <th>min</th>\n",
              "      <td>1</td>\n",
              "    </tr>\n",
              "    <tr>\n",
              "      <th>25%</th>\n",
              "      <td>7</td>\n",
              "    </tr>\n",
              "    <tr>\n",
              "      <th>50%</th>\n",
              "      <td>10</td>\n",
              "    </tr>\n",
              "    <tr>\n",
              "      <th>75%</th>\n",
              "      <td>16</td>\n",
              "    </tr>\n",
              "    <tr>\n",
              "      <th>max</th>\n",
              "      <td>141</td>\n",
              "    </tr>\n",
              "  </tbody>\n",
              "</table>\n",
              "</div>"
            ],
            "text/plain": [
              "           0\n",
              "count  10223\n",
              "mean      13\n",
              "std       10\n",
              "min        1\n",
              "25%        7\n",
              "50%       10\n",
              "75%       16\n",
              "max      141"
            ]
          },
          "metadata": {
            "tags": []
          },
          "execution_count": 19
        }
      ]
    },
    {
      "cell_type": "markdown",
      "metadata": {
        "id": "CmnWh3GDPCuO"
      },
      "source": [
        "## Tách từ"
      ]
    },
    {
      "cell_type": "code",
      "metadata": {
        "id": "nUoX4xSSenKJ"
      },
      "source": [
        "corpus = []\n",
        "for reviews in clean_text:\n",
        "    reviews = ViTokenizer.tokenize(reviews)\n",
        "    corpus.append(reviews)"
      ],
      "execution_count": 20,
      "outputs": []
    },
    {
      "cell_type": "code",
      "metadata": {
        "id": "llbbS8SMq1DW"
      },
      "source": [
        "separator = ' '\n",
        "corpus_join = separator.join(corpus)"
      ],
      "execution_count": 21,
      "outputs": []
    },
    {
      "cell_type": "markdown",
      "metadata": {
        "id": "HtL_rAdheE38"
      },
      "source": [
        "## Top 10 từ xuất hiện nhiều nhất"
      ]
    },
    {
      "cell_type": "code",
      "metadata": {
        "colab": {
          "base_uri": "https://localhost:8080/"
        },
        "id": "mcSGZEFzsKcv",
        "outputId": "f4eba5ee-a46d-4db2-e1e1-7db9c58fdfc5"
      },
      "source": [
        "from collections import Counter\n",
        "split_it = corpus_join.split() \n",
        "  \n",
        "# Pass the split_it list to instance of Counter class. \n",
        "Counter = Counter(split_it) \n",
        "  \n",
        "# most_common() produces k frequently encountered \n",
        "# input values and their respective counts. \n",
        "most_occur = Counter.most_common(10) \n",
        "  \n",
        "print(most_occur)"
      ],
      "execution_count": 22,
      "outputs": [
        {
          "output_type": "stream",
          "text": [
            "[('ảnh', 3832), ('rất', 3132), ('tốt', 1678), ('ứng_dụng', 1660), ('lưu', 1549), ('tôi', 1480), ('không', 1431), ('được', 1431), ('sao', 1411), ('và', 1317)]\n"
          ],
          "name": "stdout"
        }
      ]
    },
    {
      "cell_type": "markdown",
      "metadata": {
        "id": "c-8ongNpMw2O"
      },
      "source": [
        "##Chia tập dữ liệu"
      ]
    },
    {
      "cell_type": "code",
      "metadata": {
        "id": "lRrUgaUse4xC"
      },
      "source": [
        "Y = data['sentiment']\n",
        "X_train, X_test, Y_train, Y_test = train_test_split(corpus, Y, train_size= 0.8, random_state=0)\n",
        "X_test, X_val, Y_test, Y_val = train_test_split(X_test, Y_test, train_size= 0.5, random_state=0)"
      ],
      "execution_count": 23,
      "outputs": []
    },
    {
      "cell_type": "code",
      "metadata": {
        "colab": {
          "base_uri": "https://localhost:8080/"
        },
        "id": "2dEqe27BeYNB",
        "outputId": "af384483-e806-4d75-f702-9faa338585e6"
      },
      "source": [
        "Y_train.value_counts()"
      ],
      "execution_count": 24,
      "outputs": [
        {
          "output_type": "execute_result",
          "data": {
            "text/plain": [
              "positive    5320\n",
              "negative    2118\n",
              "neutral      740\n",
              "Name: sentiment, dtype: int64"
            ]
          },
          "metadata": {
            "tags": []
          },
          "execution_count": 24
        }
      ]
    },
    {
      "cell_type": "code",
      "metadata": {
        "colab": {
          "base_uri": "https://localhost:8080/"
        },
        "id": "oYRqGzhaep5y",
        "outputId": "9cb81b95-33a3-4d4c-a659-e75e1b3109e8"
      },
      "source": [
        "Y_val.value_counts()"
      ],
      "execution_count": 25,
      "outputs": [
        {
          "output_type": "execute_result",
          "data": {
            "text/plain": [
              "positive    633\n",
              "negative    285\n",
              "neutral     105\n",
              "Name: sentiment, dtype: int64"
            ]
          },
          "metadata": {
            "tags": []
          },
          "execution_count": 25
        }
      ]
    },
    {
      "cell_type": "code",
      "metadata": {
        "colab": {
          "base_uri": "https://localhost:8080/"
        },
        "id": "buU5AYGYeqFg",
        "outputId": "59453b52-1315-44dc-a162-cf0f74edf7c3"
      },
      "source": [
        "Y_test.value_counts()"
      ],
      "execution_count": 26,
      "outputs": [
        {
          "output_type": "execute_result",
          "data": {
            "text/plain": [
              "positive    647\n",
              "negative    278\n",
              "neutral      97\n",
              "Name: sentiment, dtype: int64"
            ]
          },
          "metadata": {
            "tags": []
          },
          "execution_count": 26
        }
      ]
    },
    {
      "cell_type": "markdown",
      "metadata": {
        "id": "uHVlLdKiMq2G"
      },
      "source": [
        "# Huấn luyện mô hình"
      ]
    },
    {
      "cell_type": "markdown",
      "metadata": {
        "id": "nHFA9iojNfgr"
      },
      "source": [
        "##Naive Bayes"
      ]
    },
    {
      "cell_type": "code",
      "metadata": {
        "colab": {
          "base_uri": "https://localhost:8080/"
        },
        "id": "5zU8dDcC3gD6",
        "outputId": "a1a39195-28f7-4ea1-faec-2a1a863b5017"
      },
      "source": [
        "pipe = Pipeline([('vectorizer', CountVectorizer()), ('nb', MultinomialNB())])\n",
        "pipe.fit(X_train,Y_train)"
      ],
      "execution_count": 27,
      "outputs": [
        {
          "output_type": "execute_result",
          "data": {
            "text/plain": [
              "Pipeline(memory=None,\n",
              "         steps=[('vectorizer',\n",
              "                 CountVectorizer(analyzer='word', binary=False,\n",
              "                                 decode_error='strict',\n",
              "                                 dtype=<class 'numpy.int64'>, encoding='utf-8',\n",
              "                                 input='content', lowercase=True, max_df=1.0,\n",
              "                                 max_features=None, min_df=1,\n",
              "                                 ngram_range=(1, 1), preprocessor=None,\n",
              "                                 stop_words=None, strip_accents=None,\n",
              "                                 token_pattern='(?u)\\\\b\\\\w\\\\w+\\\\b',\n",
              "                                 tokenizer=None, vocabulary=None)),\n",
              "                ('nb',\n",
              "                 MultinomialNB(alpha=1.0, class_prior=None, fit_prior=True))],\n",
              "         verbose=False)"
            ]
          },
          "metadata": {
            "tags": []
          },
          "execution_count": 27
        }
      ]
    },
    {
      "cell_type": "code",
      "metadata": {
        "colab": {
          "base_uri": "https://localhost:8080/"
        },
        "id": "YUsFh_pf4LZ_",
        "outputId": "b8896f4c-99b2-4da2-c621-6cf9066ee518"
      },
      "source": [
        "print('Train set\\n',classification_report(Y_train,pipe.predict(X_train)))"
      ],
      "execution_count": 28,
      "outputs": [
        {
          "output_type": "stream",
          "text": [
            "Train set\n",
            "               precision    recall  f1-score   support\n",
            "\n",
            "    negative       0.83      0.90      0.86      2118\n",
            "     neutral       0.74      0.51      0.61       740\n",
            "    positive       0.94      0.95      0.94      5320\n",
            "\n",
            "    accuracy                           0.89      8178\n",
            "   macro avg       0.84      0.79      0.80      8178\n",
            "weighted avg       0.89      0.89      0.89      8178\n",
            "\n"
          ],
          "name": "stdout"
        }
      ]
    },
    {
      "cell_type": "code",
      "metadata": {
        "colab": {
          "base_uri": "https://localhost:8080/"
        },
        "id": "UXrrhN0nlOyi",
        "outputId": "53e86b88-b240-49cd-e962-24a481133422"
      },
      "source": [
        "print('Test set\\n',classification_report(Y_test,pipe.predict(X_test)))"
      ],
      "execution_count": 29,
      "outputs": [
        {
          "output_type": "stream",
          "text": [
            "Test set\n",
            "               precision    recall  f1-score   support\n",
            "\n",
            "    negative       0.79      0.87      0.83       278\n",
            "     neutral       0.65      0.35      0.46        97\n",
            "    positive       0.91      0.94      0.92       647\n",
            "\n",
            "    accuracy                           0.86      1022\n",
            "   macro avg       0.79      0.72      0.74      1022\n",
            "weighted avg       0.85      0.86      0.85      1022\n",
            "\n"
          ],
          "name": "stdout"
        }
      ]
    },
    {
      "cell_type": "code",
      "metadata": {
        "colab": {
          "base_uri": "https://localhost:8080/"
        },
        "id": "XqJmurkEbMy7",
        "outputId": "52d89ca5-7192-4405-b69e-0c1039fb0585"
      },
      "source": [
        "import joblib\n",
        "joblib.dump(pipe,'/content/drive/MyDrive/DAUD1_project/naive_bayes.h5')"
      ],
      "execution_count": 30,
      "outputs": [
        {
          "output_type": "execute_result",
          "data": {
            "text/plain": [
              "['/content/drive/MyDrive/DAUD1_project/naive_bayes.h5']"
            ]
          },
          "metadata": {
            "tags": []
          },
          "execution_count": 30
        }
      ]
    },
    {
      "cell_type": "markdown",
      "metadata": {
        "id": "UUq6mnkANmmv"
      },
      "source": [
        "##Transformer"
      ]
    },
    {
      "cell_type": "markdown",
      "metadata": {
        "id": "b6vfhhW2PUH6"
      },
      "source": [
        "###Word Embedding"
      ]
    },
    {
      "cell_type": "code",
      "metadata": {
        "id": "u-iqaIrPeKso"
      },
      "source": [
        "dim = 32"
      ],
      "execution_count": 32,
      "outputs": []
    },
    {
      "cell_type": "code",
      "metadata": {
        "id": "kk4DdklZfaaP",
        "colab": {
          "base_uri": "https://localhost:8080/"
        },
        "outputId": "7e04698a-1398-41a1-abf5-013cfb993ff3"
      },
      "source": [
        "train_data = []\n",
        "for sents in X_train:\n",
        "  train_data.append(sents.split())\n",
        "from gensim.models import FastText\n",
        "model_fasttext = FastText(size=dim, window=10, min_count=2, workers=4, sg=1)\n",
        "model_fasttext.build_vocab(train_data)\n",
        "model_fasttext.train(train_data, total_examples=model_fasttext.corpus_count, epochs=model_fasttext.iter)\n",
        "vocab = model_fasttext.wv.vocab\n",
        "embedding_matrix = model_fasttext.wv.vectors"
      ],
      "execution_count": 33,
      "outputs": [
        {
          "output_type": "stream",
          "text": [
            "/usr/local/lib/python3.6/dist-packages/ipykernel_launcher.py:7: DeprecationWarning: Call to deprecated `iter` (Attribute will be removed in 4.0.0, use self.epochs instead).\n",
            "  import sys\n"
          ],
          "name": "stderr"
        }
      ]
    },
    {
      "cell_type": "markdown",
      "metadata": {
        "id": "FfCM_F1vXMA5"
      },
      "source": [
        "### Tạo các class cần thiết"
      ]
    },
    {
      "cell_type": "code",
      "metadata": {
        "id": "8gewy_jScnbR"
      },
      "source": [
        "class MultiHeadSelfAttention(layers.Layer):\n",
        "    def __init__(self, embed_dim, num_heads=8):\n",
        "        super(MultiHeadSelfAttention, self).__init__()\n",
        "        self.embed_dim = embed_dim\n",
        "        self.num_heads = num_heads\n",
        "        if embed_dim % num_heads != 0:\n",
        "            raise ValueError(\n",
        "                f\"embedding dimension = {embed_dim} should be divisible by number of heads = {num_heads}\"\n",
        "            )\n",
        "        self.projection_dim = embed_dim // num_heads\n",
        "        self.query_dense = layers.Dense(embed_dim)\n",
        "        self.key_dense = layers.Dense(embed_dim)\n",
        "        self.value_dense = layers.Dense(embed_dim)\n",
        "        self.combine_heads = layers.Dense(embed_dim)\n",
        "\n",
        "    def attention(self, query, key, value):\n",
        "        score = tf.matmul(query, key, transpose_b=True)\n",
        "        dim_key = tf.cast(tf.shape(key)[-1], tf.float32)\n",
        "        scaled_score = score / tf.math.sqrt(dim_key)\n",
        "        weights = tf.nn.softmax(scaled_score, axis=-1)\n",
        "        output = tf.matmul(weights, value)\n",
        "        return output, weights\n",
        "\n",
        "    def separate_heads(self, x, batch_size):\n",
        "        x = tf.reshape(x, (batch_size, -1, self.num_heads, self.projection_dim))\n",
        "        return tf.transpose(x, perm=[0, 2, 1, 3])\n",
        "\n",
        "    def call(self, inputs):\n",
        "        # x.shape = [batch_size, seq_len, embedding_dim]\n",
        "        batch_size = tf.shape(inputs)[0]\n",
        "        query = self.query_dense(inputs)  # (batch_size, seq_len, embed_dim)\n",
        "        key = self.key_dense(inputs)  # (batch_size, seq_len, embed_dim)\n",
        "        value = self.value_dense(inputs)  # (batch_size, seq_len, embed_dim)\n",
        "        query = self.separate_heads(\n",
        "            query, batch_size\n",
        "        )  # (batch_size, num_heads, seq_len, projection_dim)\n",
        "        key = self.separate_heads(\n",
        "            key, batch_size\n",
        "        )  # (batch_size, num_heads, seq_len, projection_dim)\n",
        "        value = self.separate_heads(\n",
        "            value, batch_size\n",
        "        )  # (batch_size, num_heads, seq_len, projection_dim)\n",
        "        attention, weights = self.attention(query, key, value)\n",
        "        attention = tf.transpose(\n",
        "            attention, perm=[0, 2, 1, 3]\n",
        "        )  # (batch_size, seq_len, num_heads, projection_dim)\n",
        "        concat_attention = tf.reshape(\n",
        "            attention, (batch_size, -1, self.embed_dim)\n",
        "        )  # (batch_size, seq_len, embed_dim)\n",
        "        output = self.combine_heads(\n",
        "            concat_attention\n",
        "        )  # (batch_size, seq_len, embed_dim)\n",
        "        return output"
      ],
      "execution_count": 34,
      "outputs": []
    },
    {
      "cell_type": "code",
      "metadata": {
        "id": "U7ooE7micu4G"
      },
      "source": [
        "class TransformerBlock(layers.Layer):\n",
        "    def __init__(self, embed_dim, num_heads, ff_dim, rate=0.1):\n",
        "        super(TransformerBlock, self).__init__()\n",
        "        self.att = MultiHeadSelfAttention(embed_dim, num_heads)\n",
        "        self.ffn = keras.Sequential(\n",
        "            [layers.Dense(ff_dim, activation=\"relu\"), layers.Dense(embed_dim),]\n",
        "        )\n",
        "        self.layernorm1 = layers.LayerNormalization(epsilon=1e-6)\n",
        "        self.layernorm2 = layers.LayerNormalization(epsilon=1e-6)\n",
        "        self.dropout1 = layers.Dropout(rate)\n",
        "        self.dropout2 = layers.Dropout(rate)\n",
        "\n",
        "    def call(self, inputs, training):\n",
        "        attn_output = self.att(inputs)\n",
        "        attn_output = self.dropout1(attn_output, training=training)\n",
        "        out1 = self.layernorm1(inputs + attn_output)\n",
        "        ffn_output = self.ffn(out1)\n",
        "        ffn_output = self.dropout2(ffn_output, training=training)\n",
        "        return self.layernorm2(out1 + ffn_output)\n"
      ],
      "execution_count": 35,
      "outputs": []
    },
    {
      "cell_type": "code",
      "metadata": {
        "id": "OnKMc4b2ma1l"
      },
      "source": [
        "class TokenAndPositionEmbedding(layers.Layer):\n",
        "    def __init__(self, maxlen, vocab_size, embed_dim,embedding_matrix):\n",
        "        super(TokenAndPositionEmbedding, self).__init__()\n",
        "        self.token_emb = layers.Embedding(input_dim=vocab_size, output_dim=embed_dim,weights = [embedding_matrix])\n",
        "        self.pos_emb = layers.Embedding(input_dim=maxlen, output_dim=embed_dim)\n",
        "\n",
        "    def call(self, x):\n",
        "        maxlen = tf.shape(x)[-1]\n",
        "        positions = tf.range(start=0, limit=maxlen, delta=1)\n",
        "        positions = self.pos_emb(positions)\n",
        "        x = self.token_emb(x)\n",
        "        return x + positions"
      ],
      "execution_count": 36,
      "outputs": []
    },
    {
      "cell_type": "markdown",
      "metadata": {
        "id": "-wcKrw57PbZv"
      },
      "source": [
        "### Encoder dữ liệu"
      ]
    },
    {
      "cell_type": "code",
      "metadata": {
        "id": "qPpOb0_Pe-eL"
      },
      "source": [
        "x_train = [sent.split() for sent in X_train]\n",
        "x_test = [sent.split() for sent in X_test]\n",
        "x_val = [sent.split() for sent in X_val]"
      ],
      "execution_count": 37,
      "outputs": []
    },
    {
      "cell_type": "code",
      "metadata": {
        "id": "WWy5iG9TeBS5"
      },
      "source": [
        "maxlen = 140\n",
        "vocab_size = len(vocab)\n",
        "max_words = vocab_size"
      ],
      "execution_count": 38,
      "outputs": []
    },
    {
      "cell_type": "code",
      "metadata": {
        "id": "GubttLdan27M"
      },
      "source": [
        "from keras.preprocessing.text import Tokenizer\n",
        "from keras.preprocessing.text import text_to_word_sequence\n",
        "from tensorflow.keras.preprocessing.sequence import pad_sequences\n",
        "tokenizer = Tokenizer(num_words=max_words)\n",
        "tokenizer.fit_on_texts(x_train)\n",
        "X_train_sq = tokenizer.texts_to_sequences(x_train)\n",
        "X_train_sq = pad_sequences(X_train_sq,maxlen = maxlen)\n",
        "X_test_sq = tokenizer.texts_to_sequences(x_test)\n",
        "X_test_sq = pad_sequences(X_test_sq,maxlen=maxlen)\n",
        "X_val_sq = tokenizer.texts_to_sequences(x_val)\n",
        "X_val_sq = pad_sequences(X_val_sq,maxlen=maxlen)"
      ],
      "execution_count": 39,
      "outputs": []
    },
    {
      "cell_type": "markdown",
      "metadata": {
        "id": "eF23rv2RFZPa"
      },
      "source": [
        "###Huấn luyện"
      ]
    },
    {
      "cell_type": "code",
      "metadata": {
        "id": "9yGoBGizdDjs"
      },
      "source": [
        "embed_dim = dim  # Embedding size for each token\n",
        "num_heads = 2  # Number of attention heads\n",
        "ff_dim = dim  # Hidden layer size in feed forward network inside transformer\n",
        "def model_builder(hp):\n",
        "  inputs = layers.Input(shape=(maxlen,))\n",
        "  embedding_layer = TokenAndPositionEmbedding(maxlen, vocab_size, embed_dim,embedding_matrix)\n",
        "  x = embedding_layer(inputs)\n",
        "  transformer_block = TransformerBlock(embed_dim, num_heads, ff_dim)\n",
        "  x = transformer_block(x)\n",
        "  x = layers.GlobalAveragePooling1D()(x)\n",
        "  x = layers.Dropout(0.1)(x)\n",
        "  hp_units = hp.Int('units', min_value = 10, max_value = 100, step = 10)\n",
        "  x = layers.Dense(units = hp_units, activation=\"relu\")(x)\n",
        "  x = layers.Dropout(0.1)(x)\n",
        "  outputs = layers.Dense(3, activation=\"softmax\")(x)\n",
        "  model = keras.Model(inputs=inputs, outputs=outputs)\n",
        "  hp_learning_rate = hp.Choice('learning_rate', values = [1e-2, 1e-3, 1e-4]) \n",
        "  model.compile(optimizer=keras.optimizers.Adam(learning_rate=hp_learning_rate),\n",
        "              loss= \"categorical_crossentropy\",metrics=[\"accuracy\"])\n",
        "  return model \n",
        "tuner = kt.Hyperband(model_builder,\n",
        "                     objective = 'val_accuracy', \n",
        "                     max_epochs = 10,\n",
        "                     factor = 3,\n",
        "                     directory = 'my_direct',\n",
        "                     project_name = 'intro_to_kt_2')"
      ],
      "execution_count": 40,
      "outputs": []
    },
    {
      "cell_type": "code",
      "metadata": {
        "id": "JqBAeGZjwVaG"
      },
      "source": [
        "class ClearTrainingOutput(tf.keras.callbacks.Callback):\n",
        "  def on_train_end(*args, **kwargs):\n",
        "    IPython.display.clear_output(wait = True)"
      ],
      "execution_count": 41,
      "outputs": []
    },
    {
      "cell_type": "code",
      "metadata": {
        "id": "hUc4H4RlzDiS"
      },
      "source": [
        "y_train = pd.get_dummies(Y_train)\n",
        "y_test = pd.get_dummies(Y_test)\n",
        "y_val = pd.get_dummies(Y_val)"
      ],
      "execution_count": 42,
      "outputs": []
    },
    {
      "cell_type": "code",
      "metadata": {
        "colab": {
          "base_uri": "https://localhost:8080/"
        },
        "id": "KJnG15ISwcPx",
        "outputId": "9bb61fec-41c5-4db7-c24b-7c5e330f27e7"
      },
      "source": [
        "tuner.search(X_train_sq, y_train,batch_size=16, epochs = 10, validation_data = (X_val_sq, y_val), callbacks = [ClearTrainingOutput()])\n",
        "\n",
        "# Get the optimal hyperparameters\n",
        "best_hps = tuner.get_best_hyperparameters(num_trials = 1)[0]"
      ],
      "execution_count": 43,
      "outputs": [
        {
          "output_type": "stream",
          "text": [
            "Trial 30 Complete [00h 00m 48s]\n",
            "val_accuracy: 0.8289344906806946\n",
            "\n",
            "Best val_accuracy So Far: 0.8778103590011597\n",
            "Total elapsed time: 00h 10m 45s\n",
            "INFO:tensorflow:Oracle triggered exit\n"
          ],
          "name": "stdout"
        }
      ]
    },
    {
      "cell_type": "code",
      "metadata": {
        "id": "oJNHKzdK-3C4",
        "colab": {
          "base_uri": "https://localhost:8080/"
        },
        "outputId": "aecf59a1-58cb-4d27-b867-a8f18f647897"
      },
      "source": [
        "best_hps.values"
      ],
      "execution_count": 44,
      "outputs": [
        {
          "output_type": "execute_result",
          "data": {
            "text/plain": [
              "{'learning_rate': 0.001,\n",
              " 'tuner/bracket': 2,\n",
              " 'tuner/epochs': 4,\n",
              " 'tuner/initial_epoch': 2,\n",
              " 'tuner/round': 1,\n",
              " 'tuner/trial_id': 'c072f3de490908818405a44d7733c958',\n",
              " 'units': 70}"
            ]
          },
          "metadata": {
            "tags": []
          },
          "execution_count": 44
        }
      ]
    },
    {
      "cell_type": "code",
      "metadata": {
        "id": "BPQiLcWHw2mW"
      },
      "source": [
        "model = tuner.hypermodel.build(best_hps)"
      ],
      "execution_count": 45,
      "outputs": []
    },
    {
      "cell_type": "code",
      "metadata": {
        "colab": {
          "base_uri": "https://localhost:8080/"
        },
        "id": "U0QnX7U3w7zg",
        "outputId": "28885459-6fc6-435d-c611-a857e3487dd2"
      },
      "source": [
        "model.fit(X_train_sq, y_train,batch_size=16, epochs = 4, validation_data = (X_val_sq, y_val))"
      ],
      "execution_count": 46,
      "outputs": [
        {
          "output_type": "stream",
          "text": [
            "Epoch 1/4\n",
            "512/512 [==============================] - 7s 10ms/step - loss: 0.7658 - accuracy: 0.6884 - val_loss: 0.4996 - val_accuracy: 0.8182\n",
            "Epoch 2/4\n",
            "512/512 [==============================] - 4s 9ms/step - loss: 0.3904 - accuracy: 0.8540 - val_loss: 0.3883 - val_accuracy: 0.8622\n",
            "Epoch 3/4\n",
            "512/512 [==============================] - 4s 9ms/step - loss: 0.2698 - accuracy: 0.8997 - val_loss: 0.4490 - val_accuracy: 0.8407\n",
            "Epoch 4/4\n",
            "512/512 [==============================] - 4s 9ms/step - loss: 0.2306 - accuracy: 0.9125 - val_loss: 0.4322 - val_accuracy: 0.8592\n"
          ],
          "name": "stdout"
        },
        {
          "output_type": "execute_result",
          "data": {
            "text/plain": [
              "<tensorflow.python.keras.callbacks.History at 0x7f8c5002c550>"
            ]
          },
          "metadata": {
            "tags": []
          },
          "execution_count": 46
        }
      ]
    },
    {
      "cell_type": "code",
      "metadata": {
        "id": "GMqf3InwK-xU"
      },
      "source": [
        "y_pre_test = model.predict(X_test_sq)\n",
        "y_pre_train = model.predict(X_train_sq)"
      ],
      "execution_count": 47,
      "outputs": []
    },
    {
      "cell_type": "code",
      "metadata": {
        "id": "X4ObnfyanXI0",
        "colab": {
          "base_uri": "https://localhost:8080/"
        },
        "outputId": "19b5c52a-3db7-4ae9-c99f-ce18c45ec88e"
      },
      "source": [
        "print(classification_report(np.array(y_train.values).argmax(axis = 1),y_pre_train.argmax(axis=1)))"
      ],
      "execution_count": 48,
      "outputs": [
        {
          "output_type": "stream",
          "text": [
            "              precision    recall  f1-score   support\n",
            "\n",
            "           0       0.88      0.97      0.92      2118\n",
            "           1       0.78      0.65      0.71       740\n",
            "           2       0.97      0.96      0.97      5320\n",
            "\n",
            "    accuracy                           0.93      8178\n",
            "   macro avg       0.88      0.86      0.87      8178\n",
            "weighted avg       0.93      0.93      0.93      8178\n",
            "\n"
          ],
          "name": "stdout"
        }
      ]
    },
    {
      "cell_type": "code",
      "metadata": {
        "colab": {
          "base_uri": "https://localhost:8080/"
        },
        "id": "DsAsnw8tlnxm",
        "outputId": "7ea7e800-2c69-4a15-dbdf-ee862bad0dc4"
      },
      "source": [
        "print(classification_report(np.array(y_test.values).argmax(axis = 1),y_pre_test.argmax(axis=1)))"
      ],
      "execution_count": 49,
      "outputs": [
        {
          "output_type": "stream",
          "text": [
            "              precision    recall  f1-score   support\n",
            "\n",
            "           0       0.78      0.90      0.84       278\n",
            "           1       0.69      0.48      0.57        97\n",
            "           2       0.94      0.92      0.93       647\n",
            "\n",
            "    accuracy                           0.88      1022\n",
            "   macro avg       0.81      0.77      0.78      1022\n",
            "weighted avg       0.88      0.88      0.87      1022\n",
            "\n"
          ],
          "name": "stdout"
        }
      ]
    },
    {
      "cell_type": "code",
      "metadata": {
        "colab": {
          "base_uri": "https://localhost:8080/"
        },
        "id": "ItyCsN-aZAk3",
        "outputId": "119759f1-dd83-4343-f1ad-9d13853a9af4"
      },
      "source": [
        "model.save('/content/drive/MyDrive/DAUD1_project/Transformer')"
      ],
      "execution_count": 50,
      "outputs": [
        {
          "output_type": "stream",
          "text": [
            "WARNING:absl:Found untraced functions such as embedding_layer_call_and_return_conditional_losses, embedding_layer_call_fn, embedding_1_layer_call_and_return_conditional_losses, embedding_1_layer_call_fn, multi_head_self_attention_layer_call_and_return_conditional_losses while saving (showing 5 of 55). These functions will not be directly callable after loading.\n",
            "WARNING:absl:Found untraced functions such as embedding_layer_call_and_return_conditional_losses, embedding_layer_call_fn, embedding_1_layer_call_and_return_conditional_losses, embedding_1_layer_call_fn, multi_head_self_attention_layer_call_and_return_conditional_losses while saving (showing 5 of 55). These functions will not be directly callable after loading.\n"
          ],
          "name": "stderr"
        },
        {
          "output_type": "stream",
          "text": [
            "INFO:tensorflow:Assets written to: /content/drive/MyDrive/DAUD1_project/Transformer/assets\n"
          ],
          "name": "stdout"
        },
        {
          "output_type": "stream",
          "text": [
            "INFO:tensorflow:Assets written to: /content/drive/MyDrive/DAUD1_project/Transformer/assets\n"
          ],
          "name": "stderr"
        }
      ]
    }
  ]
}